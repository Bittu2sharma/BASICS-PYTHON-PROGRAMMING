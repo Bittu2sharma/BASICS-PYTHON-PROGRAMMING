{
  "nbformat": 4,
  "nbformat_minor": 0,
  "metadata": {
    "colab": {
      "private_outputs": true,
      "provenance": [],
      "collapsed_sections": [
        "vncDsAP0Gaoa",
        "FJNUwmbgGyua",
        "w6K7xa23Elo4",
        "yQaldy8SH6Dl",
        "PH-0ReGfmX4f",
        "mDgbUHAGgjLW",
        "O_i_v8NEhb9l",
        "HhfV-JJviCcP",
        "Y3lxredqlCYt",
        "3RnN4peoiCZX",
        "x71ZqKXriCWQ",
        "7hBIi_osiCS2",
        "JlHwYmJAmNHm",
        "35m5QtbWiB9F",
        "PoPl-ycgm1ru",
        "H0kj-8xxnORC",
        "nA9Y7ga8ng1Z",
        "PBTbrJXOngz2",
        "u3PMJOP6ngxN",
        "dauF4eBmngu3",
        "bKJF3rekwFvQ",
        "MSa1f5Uengrz",
        "GF8Ens_Soomf",
        "0wOQAZs5pc--",
        "K5QZ13OEpz2H",
        "lQ7QKXXCp7Bj",
        "448CDAPjqfQr",
        "KSlN3yHqYklG",
        "t6dVpIINYklI",
        "ijmpgYnKYklI",
        "-JiQyfWJYklI",
        "EM7whBJCYoAo",
        "fge-S5ZAYoAp",
        "85gYPyotYoAp",
        "RoGjAbkUYoAp",
        "4Of9eVA-YrdM",
        "iky9q4vBYrdO",
        "F6T5p64dYrdO",
        "y-Ehk30pYrdP",
        "bamQiAODYuh1",
        "QHF8YVU7Yuh3",
        "GwzvFGzlYuh3",
        "qYpmQ266Yuh3",
        "OH-pJp9IphqM",
        "bbFf2-_FphqN",
        "_ouA3fa0phqN",
        "Seke61FWphqN",
        "PIIx-8_IphqN",
        "t27r6nlMphqO",
        "r2jJGEOYphqO",
        "b0JNsNcRphqO",
        "BZR9WyysphqO",
        "jj7wYXLtphqO",
        "eZrbJ2SmphqO",
        "rFu4xreNphqO",
        "YJ55k-q6phqO",
        "gCFgpxoyphqP",
        "OVtJsKN_phqQ",
        "lssrdh5qphqQ",
        "U2RJ9gkRphqQ",
        "1M8mcRywphqQ",
        "tgIPom80phqQ",
        "JMzcOPDDphqR",
        "x-EpHcCOp1ci",
        "X_VqEhTip1ck",
        "8zGJKyg5p1ck",
        "PVzmfK_Ep1ck",
        "n3dbpmDWp1ck",
        "ylSl6qgtp1ck",
        "ZWILFDl5p1ck",
        "M7G43BXep1ck",
        "Ag9LCva-p1cl",
        "E6MkPsBcp1cl",
        "2cELzS2fp1cl",
        "3MPXvC8up1cl",
        "NC_X3p0fY2L0",
        "UV0SzAkaZNRQ",
        "YPEH6qLeZNRQ",
        "q29F0dvdveiT",
        "EXh0U9oCveiU",
        "22aHeOlLveiV",
        "JcMwzZxoAimU",
        "8G2x9gOozGDZ",
        "gCX9965dhzqZ",
        "gIfDvo9L0UH2"
      ],
      "include_colab_link": true
    },
    "kernelspec": {
      "name": "python3",
      "display_name": "Python 3"
    },
    "language_info": {
      "name": "python"
    }
  },
  "cells": [
    {
      "cell_type": "markdown",
      "metadata": {
        "id": "view-in-github",
        "colab_type": "text"
      },
      "source": [
        "<a href=\"https://colab.research.google.com/github/Bittu2sharma/BASICS-PYTHON-PROGRAMMING/blob/main/Sample_EDA_Submission_Template.ipynb\" target=\"_parent\"><img src=\"https://colab.research.google.com/assets/colab-badge.svg\" alt=\"Open In Colab\"/></a>"
      ]
    },
    {
      "cell_type": "markdown",
      "source": [
        "# **Project Name**    -\n",
        "\n"
      ],
      "metadata": {
        "id": "vncDsAP0Gaoa"
      }
    },
    {
      "cell_type": "markdown",
      "source": [
        "##### **Project Type**    - EDA/Regression/Classification/Unsupervised\n",
        "##### **Contribution**    - Individual\n",
        "##### **Team Member 1 -** RITIKA SHARMA\n"
      ],
      "metadata": {
        "id": "beRrZCGUAJYm"
      }
    },
    {
      "cell_type": "markdown",
      "source": [
        "# **Project Summary -**"
      ],
      "metadata": {
        "id": "FJNUwmbgGyua"
      }
    },
    {
      "cell_type": "markdown",
      "source": [
        "\n",
        "In recent years, terrorism has taken a whole new dimension and becoming a global issue because of widespread attacks and comparatively high number of fatalities. Understanding the attack characteristics of most active groups and subsequent statistical analysis is, therefore, an important aspect toward counterterrorism support in the present situation. In this thesis, we use a variety of data mining techniques and descriptive analysis to determine, examine and characterize threat level from top ten most active and violent terrorist groups and then use machine learning algorithms to avail intelligence toward counterterrorism support. We use historical data of terrorist attacks that took place around the world between 1970 to 2016 from the open-source Global Terrorism Database and the primary objective is to translate terror incident related information into actionable intelligence. In other words, we chase the trajectory of terrorism in the present context with statistical methods and derive insights that can be useful.\n",
        "\n",
        "A major part of this thesis is based on supervised and unsupervised machine learning techniques. We use Apriori algorithm to discover patterns in various groups. From the discovered patterns, one of the interesting patterns we find is that ISIL is more likely to attack other terrorists (non-state militia) with bombing/explosion while having resulting fatalities between 6 to 10 whereas Boko Haram is more likely to target civilians with explosives, without suicide attack and resulting fatalities more than 50. Within the supervised machine learning context, we extend the previous research in time-series forecasting and make use of TBATS, ETS, Auto Arima and Neural Network model. We predict the future number of attacks in Afghanistan and SAHEL region, and the number of fatalities in Iraq at a monthly frequency. From time-series forecasting, we prove two things; the model that works best in one time-series data may not be the best in another time-series data, and that the use of ensemble significantly improves forecasting accuracy from base models. Similarly, in the classification modeling part, previous research lacks the use of algorithms that are recently developed. We also extend the previous research in binary classification problem and make use of a cutting-edge LightGBM algorithm to predict the probability of suicide attack. Our model achieves 96% accuracy in terms of AUC and correctly classifies “Yes” instances of suicide attacks with 86.5% accuracy."
      ],
      "metadata": {
        "id": "F6v_1wHtG2nS"
      }
    },
    {
      "cell_type": "markdown",
      "source": [
        "# **GitHub Link -**"
      ],
      "metadata": {
        "id": "w6K7xa23Elo4"
      }
    },
    {
      "cell_type": "markdown",
      "source": [
        "Provide your GitHub Link here."
      ],
      "metadata": {
        "id": "h1o69JH3Eqqn"
      }
    },
    {
      "cell_type": "markdown",
      "source": [
        "## ***GTD Definition of Terrorism and Inclusion Criteria***\n",
        "\n",
        "The GTD defines a terrorist attack as the threatened or actual use of illegal force and violence by a nonstate actor to attain a political, economic, religious, or social goal through fear, coercion, or\n",
        "intimidation. In practice this means in order to consider an incident for inclusion in the GTD, all three of\n",
        "the following attributes must be present:\n",
        "12\n",
        "GLOBAL TERRORISM DATABASE CODEBOOK ©UNIVERSITY OF MARYLAND AUGUST 2021\n",
        "\n",
        "1. The incident must be intentional – the result of a conscious calculation on the part of a\n",
        "perpetrator.\n",
        "\n",
        "2. The incident must entail some level of violence or immediate threat of violence -including\n",
        "property violence, as well as violence against people.\n",
        "\n",
        "3. The perpetrators of the incidents must be sub-national actors."
      ],
      "metadata": {
        "id": "-jOY9vQrMPaV"
      }
    },
    {
      "cell_type": "markdown",
      "source": [
        "# **Problem Statement**\n"
      ],
      "metadata": {
        "id": "yQaldy8SH6Dl"
      }
    },
    {
      "cell_type": "markdown",
      "source": [
        "**Write Problem Statement Here.**\n",
        "\n",
        ">Nowadays, data is considered as the most valuable resource and machine learning makes it possible to interpret complex data however most use cases are seen in the business context such as music recommendation, predicting customer churn or finding a probability of having cancer. With recent development in machine learning algorithms and access to open source data and software, there are plenty of opportunities to correctly understand historical terrorist attacks and prevent the future conflicts. In the last decade, terrorist attacks have been increased significantly:\n",
        "\n",
        "After September 2001 attacks, USA and other powerful nations have carried out major operations to neutralize the power and spread of known and most violent terrorist groups within the targeted region such as in Afghanistan, Iraq and most recently in Syria. It’s also worth mentioning that the United Nations already have ongoing peacekeeping missions in conflicted regions around the world for a long time. However number of terror attacks continues to rise and in fact, it is almost on a peak in the last 5 years. This leads to a question why terrorism is becoming unstoppable despite the continued efforts. Understanding and interpreting the attack characteristics of relevant groups in line with their motivations to do so can reflect the bigger picture. An extensive research by (Heger, 2010) supports this argument and suggests that a group’s political intentions are revealed when we examine who or what it chooses to attack.\n",
        "\n"
      ],
      "metadata": {
        "id": "DpeJGUA3kjGy"
      }
    },
    {
      "cell_type": "markdown",
      "source": [
        "#### **Define Your Business Objective?**"
      ],
      "metadata": {
        "id": "PH-0ReGfmX4f"
      }
    },
    {
      "cell_type": "markdown",
      "source": [
        "This research project is an endeavor to achieve actionable intelligence using a machine learning approach and contributes positively to the counterterrorism policy. The outcome of this research provides descriptive findings of most lethal groups, corresponding pattern discovery through Apriori algorithm and predictive analysis through time-series forecasting and classification algorithm. Research findings and insights will be helpful to policy makers or authorities to take necessary steps in time to prevent future terrorist incidents."
      ],
      "metadata": {
        "id": "PhDvGCAqmjP1"
      }
    },
    {
      "cell_type": "markdown",
      "source": [
        "# **General Guidelines** : -  "
      ],
      "metadata": {
        "id": "mDgbUHAGgjLW"
      }
    },
    {
      "cell_type": "markdown",
      "source": [
        "1.   Well-structured, formatted, and commented code is required.\n",
        "2.   Exception Handling, Production Grade Code & Deployment Ready Code will be a plus. Those students will be awarded some additional credits.\n",
        "     \n",
        "     The additional credits will have advantages over other students during Star Student selection.\n",
        "       \n",
        "             [ Note: - Deployment Ready Code is defined as, the whole .ipynb notebook should be executable in one go\n",
        "                       without a single error logged. ]\n",
        "\n",
        "3.   Each and every logic should have proper comments.\n",
        "4. You may add as many number of charts you want. Make Sure for each and every chart the following format should be answered.\n",
        "        \n",
        "\n",
        "```\n",
        "# Chart visualization code\n",
        "```\n",
        "            \n",
        "\n",
        "*   Why did you pick the specific chart?\n",
        "*   What is/are the insight(s) found from the chart?\n",
        "* Will the gained insights help creating a positive business impact?\n",
        "Are there any insights that lead to negative growth? Justify with specific reason.\n",
        "\n",
        "5. You have to create at least 20 logical & meaningful charts having important insights.\n",
        "\n",
        "\n",
        "[ Hints : - Do the Vizualization in  a structured way while following \"UBM\" Rule.\n",
        "\n",
        "U - Univariate Analysis,\n",
        "\n",
        "B - Bivariate Analysis (Numerical - Categorical, Numerical - Numerical, Categorical - Categorical)\n",
        "\n",
        "M - Multivariate Analysis\n",
        " ]\n",
        "\n",
        "\n",
        "\n"
      ],
      "metadata": {
        "id": "ZrxVaUj-hHfC"
      }
    },
    {
      "cell_type": "markdown",
      "source": [
        "# ***Let's Begin !***"
      ],
      "metadata": {
        "id": "O_i_v8NEhb9l"
      }
    },
    {
      "cell_type": "markdown",
      "source": [
        "## ***1. Know Your Data***"
      ],
      "metadata": {
        "id": "HhfV-JJviCcP"
      }
    },
    {
      "cell_type": "markdown",
      "source": [
        "### Import Libraries"
      ],
      "metadata": {
        "id": "Y3lxredqlCYt"
      }
    },
    {
      "cell_type": "code",
      "source": [
        "# Import Libraries\n",
        "import numpy as np\n",
        "import pandas as pd\n",
        "import datetime\n",
        "import random\n",
        "import textwrap\n",
        "from itertools import product\n",
        "import seaborn as sns\n",
        "import matplotlib.pyplot as plt"
      ],
      "metadata": {
        "id": "M8Vqi-pPk-HR"
      },
      "execution_count": null,
      "outputs": []
    },
    {
      "cell_type": "markdown",
      "source": [
        "### Dataset Loading"
      ],
      "metadata": {
        "id": "3RnN4peoiCZX"
      }
    },
    {
      "cell_type": "code",
      "source": [
        "# Load Dataset\n",
        "#mounting my drive, so that I can access the files there.\n",
        "#received a authentication prompt. Completed it.\n",
        "from google.colab import drive\n",
        "import pandas as pd\n",
        "import numpy as np\n",
        "drive.mount('/content/drive')\n",
        "path = ('/content/drive/MyDrive/Global Terrorism Data (2).csv')\n",
        "gtd = pd.read_csv(path, encoding='latin1')\n"
      ],
      "metadata": {
        "id": "4CkvbW_SlZ_R"
      },
      "execution_count": null,
      "outputs": []
    },
    {
      "cell_type": "markdown",
      "source": [
        "## Dataset First View"
      ],
      "metadata": {
        "id": "x71ZqKXriCWQ"
      }
    },
    {
      "cell_type": "code",
      "source": [
        "# first view of my data\n",
        "gtd"
      ],
      "metadata": {
        "id": "6EejXweQ34EE"
      },
      "execution_count": null,
      "outputs": []
    },
    {
      "cell_type": "code",
      "source": [
        "#print all the columns of the data frame\n",
        "pd.set_option('display.max_columns', None)\n",
        "gtd"
      ],
      "metadata": {
        "id": "SBxzuzb29_xi"
      },
      "execution_count": null,
      "outputs": []
    },
    {
      "cell_type": "markdown",
      "source": [
        "### Dataset Rows & Columns count"
      ],
      "metadata": {
        "id": "7hBIi_osiCS2"
      }
    },
    {
      "cell_type": "code",
      "source": [
        "# Dataset Rows & Columns count\n",
        "#check the first five rows of the dataset\n",
        "gtd.head()"
      ],
      "metadata": {
        "id": "Kllu7SJgmLij"
      },
      "execution_count": null,
      "outputs": []
    },
    {
      "cell_type": "code",
      "source": [
        "# printing last five row\n",
        "gtd.tail()"
      ],
      "metadata": {
        "id": "24xFM9zZxO52"
      },
      "execution_count": null,
      "outputs": []
    },
    {
      "cell_type": "code",
      "source": [
        "#listing all the columns name present in the gtd dataset.\n",
        "list(gtd.columns)"
      ],
      "metadata": {
        "id": "VJCKAwCWxZ3s"
      },
      "execution_count": null,
      "outputs": []
    },
    {
      "cell_type": "markdown",
      "source": [
        "### Dataset Information"
      ],
      "metadata": {
        "id": "JlHwYmJAmNHm"
      }
    },
    {
      "cell_type": "code",
      "source": [
        "# Dataset Info\n",
        "gtd.info()"
      ],
      "metadata": {
        "id": "e9hRXRi6meOf"
      },
      "execution_count": null,
      "outputs": []
    },
    {
      "cell_type": "markdown",
      "source": [
        "#### Duplicate Values"
      ],
      "metadata": {
        "id": "35m5QtbWiB9F"
      }
    },
    {
      "cell_type": "code",
      "source": [
        "# Dataset Duplicate Value Count\n",
        "# Find duplicate rows based on all columns\n",
        "duplicates_all = gtd[gtd.duplicated()]\n",
        "duplicates_all.count()\n"
      ],
      "metadata": {
        "id": "1sLdpKYkmox0"
      },
      "execution_count": null,
      "outputs": []
    },
    {
      "cell_type": "code",
      "source": [
        "print(duplicates_all)\n",
        "for column, count in duplicates_all.items():\n",
        "    print(f\"{column}: {count}\")"
      ],
      "metadata": {
        "id": "Xr6FYLML30wj"
      },
      "execution_count": null,
      "outputs": []
    },
    {
      "cell_type": "markdown",
      "source": [
        "#### Missing Values/Null Values"
      ],
      "metadata": {
        "id": "PoPl-ycgm1ru"
      }
    },
    {
      "cell_type": "code",
      "source": [
        "# Missing Values/Null Values Count\n",
        "null_counts = gtd.isnull().sum()"
      ],
      "metadata": {
        "id": "GgHWkxvamxVg"
      },
      "execution_count": null,
      "outputs": []
    },
    {
      "cell_type": "code",
      "source": [
        "# Visualizing the missing values\n",
        "# Print the count of null values for all column\n",
        "print(\"Count of null values in each column:\")\n",
        "print(null_counts)\n"
      ],
      "metadata": {
        "id": "3q5wnI3om9sJ"
      },
      "execution_count": null,
      "outputs": []
    },
    {
      "cell_type": "code",
      "source": [
        "# Print the count of null values for each column\n",
        "print(\"Count of null values in each column:\")\n",
        "for column, count in null_counts.items():\n",
        "    print(f\"{column}: {count}\")\n",
        "# this will print all the values along with the count of null values in the specific column."
      ],
      "metadata": {
        "id": "3n2j7uXmkqGx"
      },
      "execution_count": null,
      "outputs": []
    },
    {
      "cell_type": "markdown",
      "source": [
        "### What did you know about your dataset?"
      ],
      "metadata": {
        "id": "H0kj-8xxnORC"
      }
    },
    {
      "cell_type": "markdown",
      "source": [
        "Answer Here\n",
        "\n",
        "Till here we have gained basic info of our dataset that how"
      ],
      "metadata": {
        "id": "gfoNAAC-nUe_"
      }
    },
    {
      "cell_type": "markdown",
      "source": [
        "## ***2. Understanding Your Variables***"
      ],
      "metadata": {
        "id": "nA9Y7ga8ng1Z"
      }
    },
    {
      "cell_type": "code",
      "source": [
        "# Dataset Columns\n",
        "pd.set_option('display.max_columns', None)\n",
        "gtd.columns"
      ],
      "metadata": {
        "id": "j7xfkqrt5Ag5"
      },
      "execution_count": null,
      "outputs": []
    },
    {
      "cell_type": "code",
      "source": [
        "# basic statitcs\n",
        "gtd.describe()# describe function tells about basic count, mean, std, min, etc of the dataframe ."
      ],
      "metadata": {
        "id": "DnOaZdaE5Q5t"
      },
      "execution_count": null,
      "outputs": []
    },
    {
      "cell_type": "markdown",
      "source": [
        "### Variables Description"
      ],
      "metadata": {
        "id": "PBTbrJXOngz2"
      }
    },
    {
      "cell_type": "markdown",
      "source": [
        "Answer Here\n",
        "\n",
        "I. (GTD ID and Date)\n",
        "\n",
        "   Incidents from the GTD follow a 12-digit Event ID system.\n",
        "• First 8 numbers – date recorded “yyyymmdd”.\n",
        "\n",
        "• Last 4 numbers – sequential case number for the given day (0001, 0002 etc).\n",
        "\n",
        "This is “0001” unless there is more than one case occurring on the same date.\n",
        "\n",
        "2.(iyear)\n",
        "\n",
        "This field contains the year in which the incident occurred.\n",
        "\n",
        "3.(imonth)\n",
        "\n",
        "This field contains the number of the month in which the incident occurred\n",
        "\n",
        "4.(iday)\n",
        "\n",
        "This field contains the numeric day of the month on which the incident occurred.\n",
        "\n",
        "5.approxdate\n",
        "\n",
        "Whenever the exact date of the incident is not known or remains unclear, this field is used to record the approximate date of the incident.\n",
        "\n",
        "6.(provstate)\n",
        "\n",
        "This variable records the name (at the time of event) of the 1st order subnational administrative region in which the event occurs.\n",
        "\n",
        "7.crit1,crit2,crit3\n",
        "\n",
        "on the basis of defined criterian these category are made.\n",
        "\n",
        "8.Numeric Variable This field records the latitude (based on WGS1984 standards) of the city in which the event occurred.\n",
        "\n",
        "9.(longitude) Numeric Variable\n",
        "\n",
        "This field records the longitude (based on WGS1984 standards) of the city in which the event occurred.\n",
        "\n",
        "10.(specificity)\n",
        "\n",
        "Categorical Variable This field identifies the geospatial resolution of the latitude and longitude fields.\n",
        "\n",
        "11.. Attack Information\n",
        "\n",
        "(attacktype1; attacktype1_txt)\n",
        "\n",
        "Categorical Variable\n",
        "\n",
        "This field captures the general method of attack and often reflects the broad class of tactics used.\n",
        "\n",
        "It consists of nine categories, which are defined below. Up to three attack types can be recorded for each incident. Typically, only one attack type is recorded for each incident unless the attack is comprised of a sequence of events.\n",
        "\n",
        "12.Attack Type Hierarchy:\n",
        "\n",
        "Assassination\n",
        "\n",
        "Hijacking\n",
        "\n",
        "Kidnapping\n",
        "\n",
        "Barricade Incident\n",
        "\n",
        "Bombing/Explosion\n",
        "\n",
        "Armed Assault\n",
        "\n",
        "Unarmed Assault\n",
        "\n",
        "Facility/Infrastructure Attack\n",
        "\n",
        "Unknown\n",
        "\n",
        "13.(success)\n",
        "\n",
        "Success of a terrorist strike is defined according to the tangible effects of the attack\n",
        "\n",
        "14.(suicide)\n",
        "\n",
        "This variable is coded “Yes” in those cases where there is evidence that the perpetrator did not intend to escape from the attack alive.\n",
        "\n",
        "15.(weaptype1; weaptype1_txt)\n",
        "\n",
        "Up to four weapon types are recorded for each incident. This field records the general type ofweapon used in the incident. It consists of the following categories:\n",
        "\n",
        "1 = Biological\n",
        "\n",
        "A weapon whose components are produced from pathogenic microorganisms or toxicsubstances of biological origins.\n",
        "\n",
        "2 = Chemical\n",
        "\n",
        "A weapon produced from toxic chemicals that is contained in a delivery system anddispersed as a liquid, vapor, or aerosol. This category includes chemical weaponsdelivered via explosive device.\n",
        "\n",
        "3 = Radiological A weapon whose components are produced from radioactive materials that emit ionizing radiation and can take many forms\n",
        "\n",
        "16.(targtype1; targtype1_txt)\n",
        "\n",
        "The target/victim type field captures the general type of target/victim. When a victim isattacked specifically because of his or her relationship to a particular person, such as aprominent figure, the target type reflects that motive.\n",
        "\n",
        "etc etc."
      ],
      "metadata": {
        "id": "aJV4KIxSnxay"
      }
    },
    {
      "cell_type": "markdown",
      "source": [
        "### Check Unique Values for each variable."
      ],
      "metadata": {
        "id": "u3PMJOP6ngxN"
      }
    },
    {
      "cell_type": "code",
      "source": [
        "#Check unique values for each column\n",
        "unique_counts = gtd.nunique()\n",
        "# print number of unique values in each column.\n",
        "for column, value in unique_counts.items():\n",
        "  print(f\"{column}: {value}\")"
      ],
      "metadata": {
        "id": "zms12Yq5n-jE"
      },
      "execution_count": null,
      "outputs": []
    },
    {
      "cell_type": "code",
      "source": [
        "# If you want to see the actual unique values for each column, you can loop through the columns\n",
        "for column in gtd.columns:\n",
        "    unique_values = gtd[column].unique()\n",
        "    print(f\"\\nUnique values in column '{column}':\")\n",
        "    print(unique_values[:10])  # Print only the first 10 unique values for brevity"
      ],
      "metadata": {
        "id": "M6VQZG6PoJvH"
      },
      "execution_count": null,
      "outputs": []
    },
    {
      "cell_type": "markdown",
      "source": [
        "## 3. ***Data Wrangling***"
      ],
      "metadata": {
        "id": "dauF4eBmngu3"
      }
    },
    {
      "cell_type": "markdown",
      "source": [
        "### Data Wrangling Code"
      ],
      "metadata": {
        "id": "bKJF3rekwFvQ"
      }
    },
    {
      "cell_type": "code",
      "source": [
        "# Write your code to make your dataset analysis ready.\n",
        "# Fill missing values for simplicity\n",
        "gtd.fillna({'city': 'Unknown', 'latitude': 0, 'longitude': 0, 'summary': 'No Summary'}, inplace=True)\n",
        "\n",
        "# Replace missing months and days with 1\n",
        "gtd['imonth'].replace(0, 1, inplace=True)  # assuming missing months as January\n",
        "gtd['iday'].replace(0, 1, inplace=True)    # assuming missing days as the 1st\n",
        "\n",
        "# Convert date-related columns to datetime format\n",
        "gtd['date'] = pd.to_datetime(gtd[['iyear', 'imonth', 'iday']].astype(str).agg('-'.join, axis=1), errors='coerce')\n",
        "\n",
        "# Display the first few rows to verify\n",
        "print(gtd[['iyear', 'imonth', 'iday', 'date']].head())\n",
        "\n",
        "# Drop rows with invalid dates\n",
        "gtd.dropna(subset=['date'], inplace=True)"
      ],
      "metadata": {
        "id": "wk-9a2fpoLcV"
      },
      "execution_count": null,
      "outputs": []
    },
    {
      "cell_type": "markdown",
      "source": [
        "### What all manipulations have you done and insights you found?"
      ],
      "metadata": {
        "id": "MSa1f5Uengrz"
      }
    },
    {
      "cell_type": "markdown",
      "source": [
        "Answer Here."
      ],
      "metadata": {
        "id": "LbyXE7I1olp8"
      }
    },
    {
      "cell_type": "markdown",
      "source": [
        "## ***4. Data Vizualization, Storytelling & Experimenting with charts : Understand the relationships between variables***"
      ],
      "metadata": {
        "id": "GF8Ens_Soomf"
      }
    },
    {
      "cell_type": "markdown",
      "source": [
        "#### Chart - 1"
      ],
      "metadata": {
        "id": "0wOQAZs5pc--"
      }
    },
    {
      "cell_type": "code",
      "source": [
        "# Chart - 1 visualization code\n",
        "# Plotting the number of attacks per year\n",
        "plt.figure(figsize=(14, 7))\n",
        "sns.countplot(data=gtd, x='iyear', palette='viridis')\n",
        "plt.title('Number of Terrorist Attacks per Year')\n",
        "plt.xlabel('Year')\n",
        "plt.ylabel('Number of Attacks')\n",
        "plt.xticks(rotation=90)\n",
        "plt.show()"
      ],
      "metadata": {
        "id": "7v_ESjsspbW7"
      },
      "execution_count": null,
      "outputs": []
    },
    {
      "cell_type": "markdown",
      "source": [
        "##### 1. Why did you pick the specific chart?"
      ],
      "metadata": {
        "id": "K5QZ13OEpz2H"
      }
    },
    {
      "cell_type": "markdown",
      "source": [
        "Answer Here."
      ],
      "metadata": {
        "id": "XESiWehPqBRc"
      }
    },
    {
      "cell_type": "markdown",
      "source": [
        "##### 2. What is/are the insight(s) found from the chart?"
      ],
      "metadata": {
        "id": "lQ7QKXXCp7Bj"
      }
    },
    {
      "cell_type": "markdown",
      "source": [
        "Answer Here"
      ],
      "metadata": {
        "id": "C_j1G7yiqdRP"
      }
    },
    {
      "cell_type": "markdown",
      "source": [
        "##### 3. Will the gained insights help creating a positive business impact?\n",
        "Are there any insights that lead to negative growth? Justify with specific reason."
      ],
      "metadata": {
        "id": "448CDAPjqfQr"
      }
    },
    {
      "cell_type": "markdown",
      "source": [
        "Answer Here"
      ],
      "metadata": {
        "id": "3cspy4FjqxJW"
      }
    },
    {
      "cell_type": "markdown",
      "source": [
        "#### Chart - 2"
      ],
      "metadata": {
        "id": "KSlN3yHqYklG"
      }
    },
    {
      "cell_type": "code",
      "source": [
        "# Chart - 2 visualization code\n",
        "#Plotting the number of attacks by region\n",
        "plt.figure(figsize=(14, 7))\n",
        "sns.countplot(data=gtd, y='region_txt', palette='magma', order=gtd['region_txt'].value_counts().index)\n",
        "plt.title('Number of Terrorist Attacks by Region')\n",
        "plt.xlabel('Number of Attacks')\n",
        "plt.ylabel('Region')\n",
        "plt.show()"
      ],
      "metadata": {
        "id": "R4YgtaqtYklH"
      },
      "execution_count": null,
      "outputs": []
    },
    {
      "cell_type": "markdown",
      "source": [
        "##### 1. Why did you pick the specific chart?"
      ],
      "metadata": {
        "id": "t6dVpIINYklI"
      }
    },
    {
      "cell_type": "markdown",
      "source": [
        "Answer Here."
      ],
      "metadata": {
        "id": "5aaW0BYyYklI"
      }
    },
    {
      "cell_type": "markdown",
      "source": [
        "##### 2. What is/are the insight(s) found from the chart?"
      ],
      "metadata": {
        "id": "ijmpgYnKYklI"
      }
    },
    {
      "cell_type": "markdown",
      "source": [
        "Answer Here"
      ],
      "metadata": {
        "id": "PSx9atu2YklI"
      }
    },
    {
      "cell_type": "markdown",
      "source": [
        "##### 3. Will the gained insights help creating a positive business impact?\n",
        "Are there any insights that lead to negative growth? Justify with specific reason."
      ],
      "metadata": {
        "id": "-JiQyfWJYklI"
      }
    },
    {
      "cell_type": "markdown",
      "source": [
        "Answer Here"
      ],
      "metadata": {
        "id": "BcBbebzrYklV"
      }
    },
    {
      "cell_type": "markdown",
      "source": [
        "#### Chart - 3"
      ],
      "metadata": {
        "id": "EM7whBJCYoAo"
      }
    },
    {
      "cell_type": "code",
      "source": [
        "# Chart - 3 visualization code\n",
        "# Plotting the number of attacks by country (top 10)\n",
        "plt.figure(figsize=(14, 7))\n",
        "top_countries = gtd['country_txt'].value_counts().head(10).index\n",
        "sns.countplot(data=gtd[gtd['country_txt'].isin(top_countries)], y='country_txt', palette='coolwarm')\n",
        "plt.title('Top 10 Countries with the Most Terrorist Attacks')\n",
        "plt.xlabel('Number of Attacks')\n",
        "plt.ylabel('Country')\n",
        "plt.show()"
      ],
      "metadata": {
        "id": "t6GMdE67YoAp"
      },
      "execution_count": null,
      "outputs": []
    },
    {
      "cell_type": "markdown",
      "source": [
        "##### 1. Why did you pick the specific chart?"
      ],
      "metadata": {
        "id": "fge-S5ZAYoAp"
      }
    },
    {
      "cell_type": "markdown",
      "source": [
        "Answer Here."
      ],
      "metadata": {
        "id": "5dBItgRVYoAp"
      }
    },
    {
      "cell_type": "markdown",
      "source": [
        "##### 2. What is/are the insight(s) found from the chart?"
      ],
      "metadata": {
        "id": "85gYPyotYoAp"
      }
    },
    {
      "cell_type": "markdown",
      "source": [
        "Answer Here"
      ],
      "metadata": {
        "id": "4jstXR6OYoAp"
      }
    },
    {
      "cell_type": "markdown",
      "source": [
        "##### 3. Will the gained insights help creating a positive business impact?\n",
        "Are there any insights that lead to negative growth? Justify with specific reason."
      ],
      "metadata": {
        "id": "RoGjAbkUYoAp"
      }
    },
    {
      "cell_type": "markdown",
      "source": [
        "Answer Here"
      ],
      "metadata": {
        "id": "zfJ8IqMcYoAp"
      }
    },
    {
      "cell_type": "markdown",
      "source": [
        "#### Chart - 4"
      ],
      "metadata": {
        "id": "4Of9eVA-YrdM"
      }
    },
    {
      "cell_type": "code",
      "source": [
        "# Chart - 4 visualization code\n",
        "# Plotting the types of attacks\n",
        "plt.figure(figsize=(14, 7))\n",
        "sns.countplot(data=gtd, y='attacktype1_txt', palette='Set2', order=gtd['attacktype1_txt'].value_counts().index)\n",
        "plt.title('Types of Terrorist Attacks')\n",
        "plt.xlabel('Number of Attacks')\n",
        "plt.ylabel('Type of Attack')\n",
        "plt.show()"
      ],
      "metadata": {
        "id": "irlUoxc8YrdO"
      },
      "execution_count": null,
      "outputs": []
    },
    {
      "cell_type": "markdown",
      "source": [
        "##### 1. Why did you pick the specific chart?"
      ],
      "metadata": {
        "id": "iky9q4vBYrdO"
      }
    },
    {
      "cell_type": "markdown",
      "source": [
        "Answer Here."
      ],
      "metadata": {
        "id": "aJRCwT6DYrdO"
      }
    },
    {
      "cell_type": "markdown",
      "source": [
        "##### 2. What is/are the insight(s) found from the chart?"
      ],
      "metadata": {
        "id": "F6T5p64dYrdO"
      }
    },
    {
      "cell_type": "markdown",
      "source": [
        "Answer Here"
      ],
      "metadata": {
        "id": "Xx8WAJvtYrdO"
      }
    },
    {
      "cell_type": "markdown",
      "source": [
        "##### 3. Will the gained insights help creating a positive business impact?\n",
        "Are there any insights that lead to negative growth? Justify with specific reason."
      ],
      "metadata": {
        "id": "y-Ehk30pYrdP"
      }
    },
    {
      "cell_type": "markdown",
      "source": [
        "Answer Here"
      ],
      "metadata": {
        "id": "jLNxxz7MYrdP"
      }
    },
    {
      "cell_type": "markdown",
      "source": [
        "#### Chart - 5"
      ],
      "metadata": {
        "id": "bamQiAODYuh1"
      }
    },
    {
      "cell_type": "code",
      "source": [
        "# Chart - 5 visualization code\n",
        "# Plotting the targets of attacks\n",
        "plt.figure(figsize=(14, 7))\n",
        "sns.countplot(data=gtd, y='targtype1_txt', palette='cubehelix', order=gtd['targtype1_txt'].value_counts().index)\n",
        "plt.title('Types of Targets Attacked')\n",
        "plt.xlabel('Number of Attacks')\n",
        "plt.ylabel('Type of Target')\n",
        "plt.show()"
      ],
      "metadata": {
        "id": "TIJwrbroYuh3"
      },
      "execution_count": null,
      "outputs": []
    },
    {
      "cell_type": "markdown",
      "source": [
        "##### 1. Why did you pick the specific chart?"
      ],
      "metadata": {
        "id": "QHF8YVU7Yuh3"
      }
    },
    {
      "cell_type": "markdown",
      "source": [
        "Answer Here."
      ],
      "metadata": {
        "id": "dcxuIMRPYuh3"
      }
    },
    {
      "cell_type": "markdown",
      "source": [
        "##### 2. What is/are the insight(s) found from the chart?"
      ],
      "metadata": {
        "id": "GwzvFGzlYuh3"
      }
    },
    {
      "cell_type": "markdown",
      "source": [
        "Answer Here"
      ],
      "metadata": {
        "id": "uyqkiB8YYuh3"
      }
    },
    {
      "cell_type": "markdown",
      "source": [
        "##### 3. Will the gained insights help creating a positive business impact?\n",
        "Are there any insights that lead to negative growth? Justify with specific reason."
      ],
      "metadata": {
        "id": "qYpmQ266Yuh3"
      }
    },
    {
      "cell_type": "markdown",
      "source": [
        "Answer Here"
      ],
      "metadata": {
        "id": "_WtzZ_hCYuh4"
      }
    },
    {
      "cell_type": "markdown",
      "source": [
        "#### Chart - 6"
      ],
      "metadata": {
        "id": "OH-pJp9IphqM"
      }
    },
    {
      "cell_type": "code",
      "source": [
        "# Chart - 6 visualization code\n",
        "# Plotting the weapons used in attacks\n",
        "plt.figure(figsize=(14, 7))\n",
        "sns.countplot(data=gtd, y='weaptype1_txt', palette='viridis', order=gtd['weaptype1_txt'].value_counts().index)\n",
        "plt.title('Types of Weapons Used in Attacks')\n",
        "plt.xlabel('Number of Attacks')\n",
        "plt.ylabel('Type of Weapon')\n",
        "plt.show()"
      ],
      "metadata": {
        "id": "kuRf4wtuphqN"
      },
      "execution_count": null,
      "outputs": []
    },
    {
      "cell_type": "markdown",
      "source": [
        "##### 1. Why did you pick the specific chart?"
      ],
      "metadata": {
        "id": "bbFf2-_FphqN"
      }
    },
    {
      "cell_type": "markdown",
      "source": [
        "Answer Here."
      ],
      "metadata": {
        "id": "loh7H2nzphqN"
      }
    },
    {
      "cell_type": "markdown",
      "source": [
        "##### 2. What is/are the insight(s) found from the chart?"
      ],
      "metadata": {
        "id": "_ouA3fa0phqN"
      }
    },
    {
      "cell_type": "markdown",
      "source": [
        "Answer Here"
      ],
      "metadata": {
        "id": "VECbqPI7phqN"
      }
    },
    {
      "cell_type": "markdown",
      "source": [
        "##### 3. Will the gained insights help creating a positive business impact?\n",
        "Are there any insights that lead to negative growth? Justify with specific reason."
      ],
      "metadata": {
        "id": "Seke61FWphqN"
      }
    },
    {
      "cell_type": "markdown",
      "source": [
        "Answer Here"
      ],
      "metadata": {
        "id": "DW4_bGpfphqN"
      }
    },
    {
      "cell_type": "markdown",
      "source": [
        "#### Chart - 7"
      ],
      "metadata": {
        "id": "PIIx-8_IphqN"
      }
    },
    {
      "cell_type": "code",
      "source": [
        "# Chart - 7 visualization code\n",
        "# Filter out rows where nkill or nwound is NaN\n",
        "df_filtered = gtd[(gtd['nkill'].notna()) & (gtd['nwound'].notna())]\n",
        "\n",
        "# Create a scatter plot\n",
        "plt.figure(figsize=(12, 6))\n",
        "sns.scatterplot(data=df_filtered, x='nkill', y='nwound', alpha=0.6)\n",
        "plt.title('Relationship Between Number of Killed and Wounded')\n",
        "plt.xlabel('Number of People Killed')\n",
        "plt.ylabel('Number of People Wounded')\n",
        "plt.xscale('log')  # Log scale to better visualize the data\n",
        "plt.yscale('log')  # Log scale to better visualize the data\n",
        "plt.grid(True, which=\"both\", ls=\"--\")\n",
        "plt.show()"
      ],
      "metadata": {
        "id": "oiiePqbo-yOV"
      },
      "execution_count": null,
      "outputs": []
    },
    {
      "cell_type": "markdown",
      "source": [
        "##### 1. Why did you pick the specific chart?"
      ],
      "metadata": {
        "id": "t27r6nlMphqO"
      }
    },
    {
      "cell_type": "markdown",
      "source": [
        "Answer Here."
      ],
      "metadata": {
        "id": "iv6ro40sphqO"
      }
    },
    {
      "cell_type": "markdown",
      "source": [
        "##### 2. What is/are the insight(s) found from the chart?"
      ],
      "metadata": {
        "id": "r2jJGEOYphqO"
      }
    },
    {
      "cell_type": "markdown",
      "source": [
        "Answer Here"
      ],
      "metadata": {
        "id": "Po6ZPi4hphqO"
      }
    },
    {
      "cell_type": "markdown",
      "source": [
        "##### 3. Will the gained insights help creating a positive business impact?\n",
        "Are there any insights that lead to negative growth? Justify with specific reason."
      ],
      "metadata": {
        "id": "b0JNsNcRphqO"
      }
    },
    {
      "cell_type": "markdown",
      "source": [
        "Answer Here"
      ],
      "metadata": {
        "id": "xvSq8iUTphqO"
      }
    },
    {
      "cell_type": "markdown",
      "source": [
        "### chart - 8"
      ],
      "metadata": {
        "id": "x7-0uVct4gSH"
      }
    },
    {
      "cell_type": "code",
      "source": [
        "# chart - 8 visualization code\n",
        "# Create a line plot\n",
        "#Group by year and count the number of attacks\n",
        "attacks_per_year = gtd.groupby('iyear').size()\n",
        "plt.figure(figsize=(12, 6))\n",
        "plt.plot(attacks_per_year.index, attacks_per_year.values, marker='o')\n",
        "plt.title('Number of Terrorist Attacks per Year')\n",
        "plt.xlabel('Year')\n",
        "plt.ylabel('Number of Attacks')\n",
        "plt.grid(True)\n",
        "plt.show()"
      ],
      "metadata": {
        "id": "21zGd-md460q"
      },
      "execution_count": null,
      "outputs": []
    },
    {
      "cell_type": "markdown",
      "source": [
        "##### 1. Why did you pick the specific chart?"
      ],
      "metadata": {
        "id": "jj7wYXLtphqO"
      }
    },
    {
      "cell_type": "markdown",
      "source": [
        "Answer Here."
      ],
      "metadata": {
        "id": "Ob8u6rCTphqO"
      }
    },
    {
      "cell_type": "markdown",
      "source": [
        "##### 2. What is/are the insight(s) found from the chart?"
      ],
      "metadata": {
        "id": "eZrbJ2SmphqO"
      }
    },
    {
      "cell_type": "markdown",
      "source": [
        "Answer Here"
      ],
      "metadata": {
        "id": "mZtgC_hjphqO"
      }
    },
    {
      "cell_type": "markdown",
      "source": [
        "##### 3. Will the gained insights help creating a positive business impact?\n",
        "Are there any insights that lead to negative growth? Justify with specific reason."
      ],
      "metadata": {
        "id": "rFu4xreNphqO"
      }
    },
    {
      "cell_type": "markdown",
      "source": [
        "### *Chart - 9 - Correlation Heatmap*"
      ],
      "metadata": {
        "id": "NC_X3p0fY2L0"
      }
    },
    {
      "cell_type": "code",
      "source": [
        "# Correlation Heatmap visualization code\n",
        "# Display the count of attacks by region and year\n",
        "attacks_by_region_year = gtd.groupby(['region_txt', 'iyear']).size().unstack().fillna(0)\n",
        "plt.figure(figsize=(14, 7))\n",
        "sns.heatmap(attacks_by_region_year, cmap='YlGnBu', linecolor='white', linewidth=1)\n",
        "plt.title('Heatmap of Terrorist Attacks by Region and Year')\n",
        "plt.xlabel('Year')\n",
        "plt.ylabel('Region')\n",
        "plt.show()"
      ],
      "metadata": {
        "id": "xyC9zolEZNRQ"
      },
      "execution_count": null,
      "outputs": []
    },
    {
      "cell_type": "markdown",
      "source": [
        "##### 1. Why did you pick the specific chart?"
      ],
      "metadata": {
        "id": "UV0SzAkaZNRQ"
      }
    },
    {
      "cell_type": "markdown",
      "source": [
        "Answer Here."
      ],
      "metadata": {
        "id": "DVPuT8LYZNRQ"
      }
    },
    {
      "cell_type": "markdown",
      "source": [
        "##### 2. What is/are the insight(s) found from the chart?"
      ],
      "metadata": {
        "id": "YPEH6qLeZNRQ"
      }
    },
    {
      "cell_type": "markdown",
      "source": [
        "Answer Here"
      ],
      "metadata": {
        "id": "bfSqtnDqZNRR"
      }
    },
    {
      "cell_type": "markdown",
      "source": [
        "### Chart - 10 - Pair Plot"
      ],
      "metadata": {
        "id": "q29F0dvdveiT"
      }
    },
    {
      "cell_type": "code",
      "source": [
        "# Pair Plot visualization code\n",
        "#Select relevant columns for the pair plot\n",
        "columns = ['iyear', 'imonth', 'iday', 'nkill', 'nwound', 'latitude', 'longitude']\n",
        "gtd_subset = gtd[columns]\n",
        "plt.figure(figsize=(12, 8))\n",
        "sns.pairplot(gtd_subset)\n",
        "plt.suptitle('Pair Plot for Selected Columns in the Global Terrorism Dataset', y=1.02)\n",
        "gtd.sample(n=1000)\n",
        "plt.show()"
      ],
      "metadata": {
        "id": "jjAhWhaM0knj"
      },
      "execution_count": null,
      "outputs": []
    },
    {
      "cell_type": "markdown",
      "source": [
        "##### 1. Why did you pick the specific chart?"
      ],
      "metadata": {
        "id": "EXh0U9oCveiU"
      }
    },
    {
      "cell_type": "markdown",
      "source": [
        "Answer Here."
      ],
      "metadata": {
        "id": "eMmPjTByveiU"
      }
    },
    {
      "cell_type": "markdown",
      "source": [
        "##### 2. What is/are the insight(s) found from the chart?"
      ],
      "metadata": {
        "id": "22aHeOlLveiV"
      }
    },
    {
      "cell_type": "markdown",
      "source": [
        "Answer Here"
      ],
      "metadata": {
        "id": "uPQ8RGwHveiV"
      }
    },
    {
      "cell_type": "markdown",
      "source": [
        "### **5. Solution to Business Objective**"
      ],
      "metadata": {
        "id": "JcMwzZxoAimU"
      }
    },
    {
      "cell_type": "markdown",
      "source": [
        "#### What do you suggest the client to achieve Business Objective ?\n",
        "Explain Briefly."
      ],
      "metadata": {
        "id": "8G2x9gOozGDZ"
      }
    },
    {
      "cell_type": "markdown",
      "source": [
        "Answer Here.\n",
        "the insights derived from the visualizations can be crucial in providing solutions to several business and strategic objectives. Here are some potential solutions and insights:\n",
        "\n",
        "1. Risk Assessment and Mitigation:\n",
        "\n",
        "Insight: Visualizations such as the number of terrorist attacks per year, region, and country can help identify high-risk areas and time periods.\n",
        "\n",
        "Solution: Businesses can use this information to assess and mitigate risks by avoiding investments or operations in high-risk regions during periods of heightened terrorist activity. They can also enhance security measures and develop contingency plans in areas identified as high-risk.\n",
        "\n",
        "2. Resource Allocation:\n",
        "\n",
        "Insight: The pair plot and other visualizations can show patterns in the types of attacks, targets, and weapons used.\n",
        "\n",
        "Solution: Governments and security agencies can allocate resources more effectively by focusing on the most common types of attacks and weapons. For example, if the data shows a high prevalence of bombings in a particular region, resources can be directed towards bomb detection and disposal units.\n",
        "\n",
        "3. Policy Making:\n",
        "\n",
        "Insight: Trends in terrorist activities over time can inform policymakers about the effectiveness of previous counter-terrorism measures.\n",
        "\n",
        "Solution: Policymakers can develop and implement targeted counter-terrorism strategies based on historical data. For instance, if certain policies have led to a decrease in attacks in specific regions, similar strategies can be applied elsewhere.\n",
        "\n",
        "4. Travel and Tourism:\n",
        "\n",
        "Insight: Data on the locations and frequency of attacks can influence travel advisories and tourism policies.\n",
        "\n",
        "Solution: Travel companies and government agencies can issue informed travel advisories and develop tourism policies that minimize risk to travelers. They can promote safer destinations and avoid high-risk areas.\n",
        "\n",
        "5. Insurance:\n",
        "\n",
        "Insight: Understanding the patterns and frequency of terrorist attacks can help insurance companies in risk assessment and premium calculation.\n",
        "\n",
        "Solution: Insurance companies can develop customized insurance products for businesses and individuals in high-risk areas. They can also adjust premiums based on the level of risk in different regions.\n",
        "\n",
        "6. Corporate Security:\n",
        "\n",
        "Insight: Businesses operating globally can benefit from understanding the threats in different regions.\n",
        "\n",
        "Solution: Corporations can enhance their security protocols, conduct regular threat assessments, and train employees in emergency response procedures based on the specific threats identified in the data.\n",
        "\n",
        "7. Public Awareness and Preparedness:\n",
        "\n",
        "Insight: Visualizations showing the types of targets most frequently attacked can inform public awareness campaigns.\n",
        "\n",
        "Solution: Government and non-governmental organizations can design public awareness and preparedness programs focused on the most common types of attacks and targets. This can include educational campaigns, emergency drills, and information on how to respond during an attack.\n",
        "\n",
        "8. Collaboration and Intelligence Sharing:\n",
        "\n",
        "Insight: Identifying common patterns and trends in terrorist activities can facilitate better collaboration between different countries and agencies.\n",
        "\n",
        "Solution: Security agencies can enhance international collaboration and intelligence sharing to combat terrorism more effectively. This can include joint training exercises, shared databases, and coordinated response strategies.\n",
        "\n",
        "\n",
        "\n",
        "\n",
        "\n"
      ],
      "metadata": {
        "id": "pASKb0qOza21"
      }
    },
    {
      "cell_type": "markdown",
      "source": [
        "# **Conclusion**"
      ],
      "metadata": {
        "id": "gCX9965dhzqZ"
      }
    },
    {
      "cell_type": "markdown",
      "source": [
        "Write the conclusion here.\n",
        "\n",
        "The insights gained from analyzing the Global Terrorism Database can provide valuable solutions to various business objectives. By leveraging data visualizations, organizations can make informed decisions to enhance security, allocate resources efficiently, influence policy making, and improve public safety. These actions not only mitigate risks but also contribute to a more secure and resilient environment for businesses and communities.\n",
        "\n",
        "\n",
        "\n",
        "\n",
        "\n",
        "\n"
      ],
      "metadata": {
        "id": "Fjb1IsQkh3yE"
      }
    },
    {
      "cell_type": "markdown",
      "source": [
        "### ***Hurrah! You have successfully completed your EDA Capstone Project !!!***"
      ],
      "metadata": {
        "id": "gIfDvo9L0UH2"
      }
    }
  ]
}